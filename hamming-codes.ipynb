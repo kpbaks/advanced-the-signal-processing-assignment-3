{
 "cells": [
  {
   "cell_type": "code",
   "execution_count": 5,
   "metadata": {},
   "outputs": [],
   "source": [
    "from functools import reduce\n",
    "from operator import xor\n",
    "from math import log2, ceil"
   ]
  },
  {
   "cell_type": "code",
   "execution_count": 2,
   "metadata": {},
   "outputs": [],
   "source": [
    "\n",
    "def hamming_encode(bits: list[int]) -> int:\n",
    "    \"\"\"one big xor\"\"\"\n",
    "    return reduce(\n",
    "        xor,\n",
    "        [i for i, bit in enumerate(bits) if bit == 1],\n",
    "    )"
   ]
  },
  {
   "cell_type": "code",
   "execution_count": 4,
   "metadata": {},
   "outputs": [
    {
     "data": {
      "text/plain": [
       "3"
      ]
     },
     "execution_count": 4,
     "metadata": {},
     "output_type": "execute_result"
    }
   ],
   "source": [
    "# test (15, 11) hamming code\n",
    "# assert hamming_encode([1, 1, 1, 1, 0, 1, 1]) == 15\n",
    "hamming_encode([1, 1, 1, 1, 0, 1, 1])"
   ]
  },
  {
   "cell_type": "code",
   "execution_count": 7,
   "metadata": {},
   "outputs": [
    {
     "data": {
      "text/plain": [
       "[1.0,\n",
       " 0.75,\n",
       " 0.4633250001602569,\n",
       " 0.3125,\n",
       " 0.22575424759098897,\n",
       " 0.17138680559561978,\n",
       " 0.1349940784513308,\n",
       " 0.109375,\n",
       " 0.09061543213437807]"
      ]
     },
     "execution_count": 7,
     "metadata": {},
     "output_type": "execute_result"
    }
   ],
   "source": [
    "# (7,4) hamming code\n",
    "# can also be computed using a matrix product\n",
    "# making the relation to linear codes more obvious\n",
    "\n",
    "# efficiency gets better with larger block sizes redundancy = (log2(n) + 1) / n\n",
    "[(log2(n) + 1) / n for n in [n**2 for n in range(1, 10)]]"
   ]
  },
  {
   "cell_type": "code",
   "execution_count": null,
   "metadata": {},
   "outputs": [],
   "source": [
    "# errors often come in bursts\n",
    "# to handle this encoded blocks are usually interlaced\n",
    "# when sent over a noisy channel\n",
    "# such that errors are more likely to be corrected, \n",
    "# as the number of errorr in a single block is small\n",
    "# and can be handled by the code."
   ]
  },
  {
   "cell_type": "code",
   "execution_count": null,
   "metadata": {},
   "outputs": [],
   "source": [
    "# implement (7,4), (15,11), (31,26) hamming codes\n",
    "# 3 bits of redundancy, 4 bits of data\n",
    "# 4 bits of redundancy, 11 bits of data\n",
    "# 5 bits of redundancy, 26 bits of data\n",
    "\n",
    "# for transmission medium situations where burst \n",
    "# errors do not occur, Hamming's (7,4) code is effective\n",
    "# (as the medium would have to be extremely noisy for two out of seven bits to be flipped). "
   ]
  },
  {
   "cell_type": "code",
   "execution_count": 9,
   "metadata": {},
   "outputs": [],
   "source": [
    "# ref: https://en.wikipedia.org/wiki/Hamming(7,4)\n",
    "def hamming_8_4_encode(bits: int) -> int:\n",
    "    msg = bits & 0b1111\n",
    "    # 3 parity bits\n",
    "    # 0th bit is not used, but can be used to store the parity of the 7 bits\n",
    "    # this is called extended hamming code\n",
    "    # [ ][ ][ ]\n",
    "    p1 = (msg & 0b1000) ^ (msg & 0b0010) ^ (msg & 0b0001)\n",
    "    p2 = (msg & 0b1000) ^ (msg & 0b0100) ^ (msg & 0b0001)\n",
    "    p3 = (msg & 0b0010) ^ (msg & 0b0100) ^ (msg & 0b0000)\n",
    "    # TODO: is this correct?\n",
    "    p0 = p1 ^ p2 ^ p3 # parity of the 7 bits (not including p0)\n",
    "    \n",
    "    # TODO: is this correct?\n",
    "    # encoded msg: [p0, p1, p2, msg[0], p3, msg[1], msg[2], msg[3]]\n",
    "    return (p0 << 7) | (p1 << 6) | (p2 << 5) | (p3 << 4) | msg\n",
    "    \n",
    "# test\n",
    "\n",
    "\n",
    "# the redundancy is (4/7 + 1) * 100 = 50%\n",
    "# so a msg of 128 bits would require 256 bits to be sent"
   ]
  },
  {
   "cell_type": "code",
   "execution_count": 10,
   "metadata": {},
   "outputs": [
    {
     "name": "stdout",
     "output_type": "stream",
     "text": [
      "0000 -> 0000000\n",
      "0001 -> 0000011\n",
      "0010 -> 0001010\n",
      "0011 -> 0001011\n",
      "0100 -> 0100100\n",
      "0101 -> 0100111\n",
      "0110 -> 0101110\n",
      "0111 -> 0101111\n",
      "1000 -> 1111000\n",
      "1001 -> 1111011\n",
      "1010 -> 1111010\n",
      "1011 -> 1111011\n",
      "1100 -> 1111100\n",
      "1101 -> 1111111\n",
      "1110 -> 1111110\n",
      "1111 -> 1111111\n"
     ]
    }
   ],
   "source": [
    "# hamming_7_4 = [\n",
    "#     0b0000000, # 0b0000\n",
    "#     0b1101001, # 0b0001\n",
    "#     0b0101010, # 0b0010\n",
    "# ]\n",
    "\n",
    "for msg in range(16):\n",
    "    print(f\"{msg:04b} -> {hamming_7_4_encode(msg):07b}\")"
   ]
  }
 ],
 "metadata": {
  "kernelspec": {
   "display_name": "Python 3.10.8 64-bit",
   "language": "python",
   "name": "python3"
  },
  "language_info": {
   "codemirror_mode": {
    "name": "ipython",
    "version": 3
   },
   "file_extension": ".py",
   "mimetype": "text/x-python",
   "name": "python",
   "nbconvert_exporter": "python",
   "pygments_lexer": "ipython3",
   "version": "3.10.8"
  },
  "orig_nbformat": 4,
  "vscode": {
   "interpreter": {
    "hash": "e7370f93d1d0cde622a1f8e1c04877d8463912d04d973331ad4851f04de6915a"
   }
  }
 },
 "nbformat": 4,
 "nbformat_minor": 2
}
