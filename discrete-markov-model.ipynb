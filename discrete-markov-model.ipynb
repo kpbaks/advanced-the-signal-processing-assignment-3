{
 "cells": [
  {
   "cell_type": "code",
   "execution_count": 58,
   "metadata": {},
   "outputs": [],
   "source": [
    "import random\n",
    "\n",
    "import numpy as np\n",
    "import matplotlib\n",
    "import matplotlib.pyplot as plt\n",
    "matplotlib.rcParams['font.family'] = 'monospace'\n",
    "\n",
    "from ipywidgets import interact"
   ]
  },
  {
   "attachments": {},
   "cell_type": "markdown",
   "metadata": {},
   "source": [
    "> Use Gilbert Elliot model to simulate the discrete Markov model <br>\n",
    "> for a network where bit errors comes in bursts.\n",
    "\n",
    "https://en.wikipedia.org/wiki/Burst_error"
   ]
  },
  {
   "cell_type": "code",
   "execution_count": 59,
   "metadata": {},
   "outputs": [
    {
     "data": {
      "application/vnd.jupyter.widget-view+json": {
       "model_id": "d2948dd8edec412685ddfd5dae69e8f3",
       "version_major": 2,
       "version_minor": 0
      },
      "text/plain": [
       "interactive(children=(FloatSlider(value=0.0, description='p', max=1.0, step=0.05), FloatSlider(value=0.0, desc…"
      ]
     },
     "metadata": {},
     "output_type": "display_data"
    }
   ],
   "source": [
    "@interact(p=(0, 1, 0.05), r=(0, 1, 0.05), initial_state=['good', 'bad'], steps=(100, 200, 10))\n",
    "def gilbert_elliot_model(p: bool, r: bool, initial_state: bool, steps: int = 100) -> None:   \n",
    "    \"\"\"\n",
    "    Simulate the Gilbert-Elliot model.\n",
    "    args:\n",
    "        p: propability of transition from good state to bad state\n",
    "        r: propability of transition from bad state to good state\n",
    "        initial_state: initial state of the system ('good' or 'bad')\n",
    "    \"\"\"\n",
    "\n",
    "    states: list[int] = []\n",
    "\n",
    "    in_good_state: bool = True if initial_state == 'good' else False\n",
    "\n",
    "    for _ in range(steps):\n",
    "        if in_good_state:\n",
    "            if random.random() < p:\n",
    "                in_good_state = False\n",
    "        else:\n",
    "            if random.random() < r:\n",
    "                in_good_state = True\n",
    "\n",
    "        states.append(1 if in_good_state else 0)\n",
    "\n",
    "    # plot the simulated states\n",
    "    fig, (ax1, ax2) = plt.subplots(1, 2, figsize=(12, 6), gridspec_kw={'width_ratios': [3, 1]})\n",
    "\n",
    "    fig.suptitle(f'Gilbert-Elliot model (p={p}, r={r}, initial_state={initial_state})', fontsize=16, fontweight='bold')\n",
    "\n",
    "    ax1.step(np.arange(0, len(states), 1), states, linestyle='-', linewidth=1)\n",
    "    ax1.set_yticks([0, 1], ['bad', 'good'])\n",
    "    ax1.set_xlabel('steps')\n",
    "    ax1.set_ylabel('state')\n",
    "\n",
    "    # plot the good states and bad states as a bar chart\n",
    "    good_states = sum(states)\n",
    "    bad_states = len(states) - good_states\n",
    "    good_states_propability = good_states / len(states) * 100\n",
    "    bad_states_propability = bad_states / len(states) * 100\n",
    "\n",
    "    ax2.bar('state', good_states,  color='#BCE29E', width=1, align='center')\n",
    "    ax2.bar('state', bad_states, color='#FF8787', bottom=good_states, width=1, align='center')\n",
    "    # write the propability of the good states and bad states in the center of each bar\n",
    "    ax2.text(0, good_states / 2, f'{good_states_propability:.2f}%', ha='center', va='center', color='black')\n",
    "    ax2.text(0, good_states + bad_states / 2, f'{bad_states_propability:.2f}%', ha='center', va='center', color='black')\n",
    "    ax2.set_ylabel('count')\n",
    "\n",
    "    plt.tight_layout()\n",
    "    plt.show()\n",
    "\n",
    "    # return states"
   ]
  },
  {
   "cell_type": "code",
   "execution_count": null,
   "metadata": {},
   "outputs": [],
   "source": []
  },
  {
   "cell_type": "code",
   "execution_count": null,
   "metadata": {},
   "outputs": [],
   "source": []
  }
 ],
 "metadata": {
  "kernelspec": {
   "display_name": "Python 3.10.8 64-bit",
   "language": "python",
   "name": "python3"
  },
  "language_info": {
   "codemirror_mode": {
    "name": "ipython",
    "version": 3
   },
   "file_extension": ".py",
   "mimetype": "text/x-python",
   "name": "python",
   "nbconvert_exporter": "python",
   "pygments_lexer": "ipython3",
   "version": "3.10.8"
  },
  "orig_nbformat": 4,
  "vscode": {
   "interpreter": {
    "hash": "e7370f93d1d0cde622a1f8e1c04877d8463912d04d973331ad4851f04de6915a"
   }
  }
 },
 "nbformat": 4,
 "nbformat_minor": 2
}
